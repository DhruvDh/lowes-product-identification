{
 "cells": [
  {
   "cell_type": "code",
   "execution_count": 1,
   "metadata": {},
   "outputs": [
    {
     "name": "stderr",
     "output_type": "stream",
     "text": [
      "Using TensorFlow backend.\n"
     ]
    },
    {
     "name": "stdout",
     "output_type": "stream",
     "text": [
      "Populating the interactive namespace from numpy and matplotlib\n"
     ]
    }
   ],
   "source": [
    "import torch\n",
    "import torch.nn as nn\n",
    "import torchvision\n",
    "import os\n",
    "\n",
    "import numpy as np\n",
    "from PIL import Image\n",
    "from tqdm import tqdm\n",
    "from livelossplot import PlotLosses\n",
    "\n",
    "from sklearn.metrics import classification_report, f1_score\n",
    "%pylab inline\n",
    "device = torch.device(\"cuda:0\" if torch.cuda.is_available() else \"cpu\")\n",
    "from sklearn.utils import class_weight"
   ]
  },
  {
   "cell_type": "code",
   "execution_count": 2,
   "metadata": {},
   "outputs": [
    {
     "name": "stdout",
     "output_type": "stream",
     "text": [
      "Found 3010 images.\n"
     ]
    }
   ],
   "source": [
    "# Change path to root folder of the data provided\n",
    "path_to_data = '../data/combined/'\n",
    "\n",
    "# a dataset abstraction that figures out classes on it's own based on what folder the images were in\n",
    "_data = torchvision.datasets.DatasetFolder(\n",
    "    path_to_data,                                  # root path, it'll get paths to actual images on it's own\n",
    "    Image.open,                                    # pillow open image function to load data from given path\n",
    "    ['jpg', 'JPG', 'HEIC', 'jpeg', 'jfif'],                                # list of extensions for images in dataset\n",
    "    transform = torchvision.transforms.Compose([   # a pipeline of transformations to apply on the read image\n",
    "#             torchvision.transforms.RandomResizedCrop(224, scale=(0.7, 1.0)),\n",
    "            torchvision.transforms.Resize((224, 224)),\n",
    "        torchvision.transforms.RandomApply([\n",
    "            torchvision.transforms.RandomHorizontalFlip(p=1.0),\n",
    "            torchvision.transforms.RandomVerticalFlip(p=1.0),\n",
    "            torchvision.transforms.ColorJitter(\n",
    "                brightness=0.7,\n",
    "                contrast=0.7,\n",
    "                saturation=0.7,\n",
    "                hue=0.3),\n",
    "            torchvision.transforms.RandomRotation(15),\n",
    "        ]),\n",
    "        torchvision.transforms.ToTensor(),\n",
    "        torchvision.transforms.Normalize(mean=[0.485, 0.456, 0.406], # the documentation said that alexnet was modelled with\n",
    "                                 std=[0.229, 0.224, 0.225]),\n",
    "        # images using this normalisation parameters\n",
    "    ]),\n",
    ")\n",
    "\n",
    "print(\"Found\", str(len(_data)), \"images.\")\n",
    "def _find_classes(dir):\n",
    "        \"\"\"\n",
    "        Finds the class folders in a dataset.\n",
    "\n",
    "        Args:\n",
    "            dir (string): Root directory path.\n",
    "\n",
    "        Returns:\n",
    "            tuple: (classes, class_to_idx) where classes are relative to (dir), and class_to_idx is a dictionary.\n",
    "\n",
    "        Ensures:\n",
    "            No class is a subdirectory of another.\n",
    "        \"\"\"\n",
    "        if sys.version_info >= (3, 5):\n",
    "            # Faster and available in Python 3.5 and above\n",
    "            classes = [d.name for d in os.scandir(dir) if d.is_dir()]\n",
    "        else:\n",
    "            classes = [d for d in os.listdir(dir) if os.path.isdir(os.path.join(dir, d))]\n",
    "        classes.sort()\n",
    "        class_to_idx = {classes[i]: i for i in range(len(classes))}\n",
    "        return classes, class_to_idx\n",
    "\n",
    "classes, class_to_idx = _find_classes(path_to_data)\n",
    "idx_to_classes = {v: k for k, v in class_to_idx.items()}"
   ]
  },
  {
   "cell_type": "code",
   "execution_count": 3,
   "metadata": {},
   "outputs": [],
   "source": [
    "# some unfortunate ugly code to split the data randomly into training and testing\n",
    "split_at = 1\n",
    "train, test = torch.utils.data.random_split(\n",
    "    _data,\n",
    "    [int(split_at*(len(_data))), len(_data) - int(split_at*(len(_data)))]\n",
    ")"
   ]
  },
  {
   "cell_type": "code",
   "execution_count": 4,
   "metadata": {},
   "outputs": [
    {
     "name": "stderr",
     "output_type": "stream",
     "text": [
      "100%|███████████████████████████████████████████████████████████████████████████████████████████████████████████████| 189/189 [01:02<00:00,  3.02it/s]\n"
     ]
    }
   ],
   "source": [
    "batch_size = 16\n",
    "# defining loaders for the train and test datasets\n",
    "train_batches = torch.utils.data.DataLoader(\n",
    "    train,                                       # dataset \n",
    "    batch_size=batch_size,                       # size of batches to load\n",
    "    shuffle=True,\n",
    "    num_workers=8,                               # no of workers\n",
    "    pin_memory=True                              # Host to GPU copies are much faster when they originate from pinned (page-locked) memory. CPU tensors and storages expose a pin_memory() method, that returns a copy of the object, with data put in a pinned region.\n",
    ") \n",
    "\n",
    "# test_batches = torch.utils.data.DataLoader(\n",
    "#     test,                                       # dataset \n",
    "#     batch_size=batch_size,                      # size of batches to load\n",
    "#     shuffle=True,\n",
    "#     num_workers=8,                               # no of workers\n",
    "#     pin_memory=True                              # Host to GPU copies are much faster when they originate from pinned (page-locked) memory. CPU tensors and storages expose a pin_memory() method, that returns a copy of the object, with data put in a pinned region.\n",
    "# ) \n",
    "\n",
    "labels = []\n",
    "for batch in tqdm(train_batches):\n",
    "    for x in batch[1]:\n",
    "        labels.append(x.item())\n",
    "\n",
    "class_weights = class_weight.compute_class_weight(\n",
    "        'balanced', np.unique(labels), np.array(labels))"
   ]
  },
  {
   "cell_type": "code",
   "execution_count": 5,
   "metadata": {},
   "outputs": [
    {
     "name": "stderr",
     "output_type": "stream",
     "text": [
      "c:\\users\\dhruv\\appdata\\local\\programs\\python\\python36\\lib\\site-packages\\torchvision\\models\\squeezenet.py:94: UserWarning: nn.init.kaiming_uniform is now deprecated in favor of nn.init.kaiming_uniform_.\n",
      "  init.kaiming_uniform(m.weight.data)\n",
      "c:\\users\\dhruv\\appdata\\local\\programs\\python\\python36\\lib\\site-packages\\torchvision\\models\\squeezenet.py:92: UserWarning: nn.init.normal is now deprecated in favor of nn.init.normal_.\n",
      "  init.normal(m.weight.data, mean=0.0, std=0.01)\n"
     ]
    }
   ],
   "source": [
    "# it'll download alexnet weights on it's own\n",
    "squeezenet = torchvision.models.squeezenet1_1(\n",
    "    pretrained=True,\n",
    ")\n"
   ]
  },
  {
   "cell_type": "code",
   "execution_count": 6,
   "metadata": {},
   "outputs": [
    {
     "data": {
      "text/plain": [
       "['FEIT_40W_T8_TUBE_MCRWV_BULB_120V',\n",
       " 'GE_40W_RelaxLED',\n",
       " 'GE_60W_LED_A19_FROST_5000K_8CT',\n",
       " 'GE_Appliance_LED_11W_Soft_White',\n",
       " 'GE_Appliance_LED_40W_Warm_White',\n",
       " 'GE_Basic_LED_60W_Soft_Light',\n",
       " 'GE_Basic_LED_90W_Daylight',\n",
       " 'GE_Classic_LED_65W_Soft_White',\n",
       " 'GE_Vintage_LED_60W_Warm_Light',\n",
       " 'OSI_60W_13W_CFL_SOFT_WHITE_6_CT',\n",
       " 'There_Is_No_Bulb']"
      ]
     },
     "execution_count": 6,
     "metadata": {},
     "output_type": "execute_result"
    }
   ],
   "source": [
    "# get list of classes from names of folders inside the path to data\n",
    "label_names = classes\n",
    "\n",
    "# set num of classes, so as to set the output dimensions\n",
    "squeezenet.num_classes = len(label_names)\n",
    "label_names"
   ]
  },
  {
   "cell_type": "code",
   "execution_count": 7,
   "metadata": {},
   "outputs": [
    {
     "data": {
      "text/plain": [
       "Sequential(\n",
       "  (0): Dropout(p=0.5)\n",
       "  (1): Conv2d(512, 11, kernel_size=(1, 1), stride=(1, 1))\n",
       "  (2): ReLU(inplace)\n",
       "  (3): AvgPool2d(kernel_size=13, stride=1, padding=0)\n",
       ")"
      ]
     },
     "execution_count": 7,
     "metadata": {},
     "output_type": "execute_result"
    }
   ],
   "source": [
    "# create new instances of the same layers, to get rid of the pretrained weights in the classification layers\n",
    "# we want to learn our own\n",
    "layers = [\n",
    "#     nn.BatchNorm2d(512),\n",
    "    nn.Dropout(0.5),\n",
    "    nn.Conv2d(512, squeezenet.num_classes, kernel_size=(1, 1), stride=(1, 1)),\n",
    "#     nn.BatchNorm2d(squeezenet.num_classes),\n",
    "    nn.ReLU(inplace=True),\n",
    "#     nn.Dropout(0.5),\n",
    "    nn.AvgPool2d(kernel_size=13, stride=1, padding=0)\n",
    "]\n",
    "\n",
    "# change the classification layers to the untrained ones we just defined\n",
    "# I am not sure why this syntax works, I found it in a medium article\n",
    "squeezenet.classifier = nn.Sequential(*layers)\n",
    "# but it gets the job done\n",
    "squeezenet.classifier"
   ]
  },
  {
   "cell_type": "code",
   "execution_count": 8,
   "metadata": {},
   "outputs": [],
   "source": [
    "loss = nn.CrossEntropyLoss(\n",
    "    weight = torch.tensor(class_weights).half().to(device)\n",
    ")                # loss function\n",
    "# it's softmax followed by Negative Log Likelihood loss\n",
    "\n",
    "# defining an optimizer\n",
    "optimizer = torch.optim.Adam(\n",
    "    squeezenet.parameters(),   \n",
    "    lr=1e-4,\n",
    "    amsgrad = True,\n",
    "    eps=1e-4\n",
    ")\n",
    "\n",
    "squeezenet.half()\n",
    "squeezenet.to(device)           # load up all the weights to cuda device memory, if available\n",
    "live_losses = PlotLosses()   # a tool for drawing plots"
   ]
  },
  {
   "cell_type": "code",
   "execution_count": 9,
   "metadata": {
    "scrolled": false
   },
   "outputs": [
    {
     "data": {
      "image/png": "[encoded data removed]",
      "text/plain": [
       "<Figure size 864x576 with 1 Axes>"
      ]
     },
     "metadata": {
      "needs_background": "light"
     },
     "output_type": "display_data"
    },
    {
     "name": "stdout",
     "output_type": "stream",
     "text": [
      "train_loss:\n",
      "training   (min:    0.039, max:    1.610, cur:    0.053)\n"
     ]
    }
   ],
   "source": [
    "# training\n",
    "for epoch in range(30):\n",
    "    squeezenet.train()  # set model to train mode. not sure what that does, probably some optimisations\n",
    "    \n",
    "    train_errors = []  \n",
    "    test_errors = []\n",
    "    for batch in (tqdm(train_batches)):\n",
    "        X, Y = batch\n",
    "        pred = squeezenet(X.half().to(device))\n",
    "        \n",
    "        optimizer.zero_grad()               # reset the gradients\n",
    "        error = loss(pred, Y.to(device))    # get loss\n",
    "        error.backward()                    # propogate loss backwards\n",
    "        optimizer.step()                    # update params\n",
    "        \n",
    "        train_errors.append(error.data.item())\n",
    "        \n",
    "    \n",
    "    squeezenet.eval()  # set model to evaluate mode. not sure what that does exactly\n",
    "    \n",
    "    # some code to calculate f1 score for the test set\n",
    "    predict = lambda x: torch.argmax(x, dim=1).cpu().numpy()\n",
    "    test_predictions = []\n",
    "    test_actual = []\n",
    "#     for batch in test_batches:\n",
    "#         x, y = batch\n",
    "#         pred = squeezenet(x.half().to(device))\n",
    "#         test_predictions.append(predict(pred))\n",
    "#         test_errors.append(loss(pred, y.to(device)).data.item())    # get loss\n",
    "#         test_actual.append(np.array(y))\n",
    "    \n",
    "#     train_predictions = []\n",
    "#     train_actual = []\n",
    "#     for batch in train_batches:\n",
    "#         x, y = batch\n",
    "#         pred = squeezenet(x.to(device))\n",
    "#         train_predictions.append(predict(pred))\n",
    "#         train_actual.append(np.array(y))\n",
    "\n",
    "    # log data to be plotted later\n",
    "    live_losses.update({\n",
    "        'train_loss': np.mean(np.array(train_errors)),\n",
    "#         'test_loss': np.mean(np.array(test_errors)),\n",
    "#         'train_f1': f1_score(np.concatenate(train_actual), np.concatenate(train_predictions), average='weighted'),\n",
    "#         'test_f1': f1_score(np.concatenate(test_actual), np.concatenate(test_predictions), average='weighted'),\n",
    "    })\n",
    "    live_losses.draw() # plot loss curves   \n",
    "\n"
   ]
  },
  {
   "cell_type": "code",
   "execution_count": 10,
   "metadata": {},
   "outputs": [
    {
     "ename": "ValueError",
     "evalue": "need at least one array to concatenate",
     "output_type": "error",
     "traceback": [
      "\u001b[1;31m---------------------------------------------------------------------------\u001b[0m",
      "\u001b[1;31mValueError\u001b[0m                                Traceback (most recent call last)",
      "\u001b[1;32m<ipython-input-10-272fd87dabd4>\u001b[0m in \u001b[0;36m<module>\u001b[1;34m\u001b[0m\n\u001b[0;32m      8\u001b[0m \u001b[1;33m\u001b[0m\u001b[0m\n\u001b[0;32m      9\u001b[0m print(classification_report(\n\u001b[1;32m---> 10\u001b[1;33m     \u001b[0mnp\u001b[0m\u001b[1;33m.\u001b[0m\u001b[0mconcatenate\u001b[0m\u001b[1;33m(\u001b[0m\u001b[0mtest_actual\u001b[0m\u001b[1;33m)\u001b[0m\u001b[1;33m,\u001b[0m\u001b[1;33m\u001b[0m\u001b[1;33m\u001b[0m\u001b[0m\n\u001b[0m\u001b[0;32m     11\u001b[0m     \u001b[0mnp\u001b[0m\u001b[1;33m.\u001b[0m\u001b[0mconcatenate\u001b[0m\u001b[1;33m(\u001b[0m\u001b[0mtest_predictions\u001b[0m\u001b[1;33m)\u001b[0m\u001b[1;33m,\u001b[0m\u001b[1;33m\u001b[0m\u001b[1;33m\u001b[0m\u001b[0m\n\u001b[0;32m     12\u001b[0m     \u001b[0mlabels\u001b[0m \u001b[1;33m=\u001b[0m \u001b[0mrange\u001b[0m\u001b[1;33m(\u001b[0m\u001b[0mlen\u001b[0m\u001b[1;33m(\u001b[0m\u001b[0mlabel_names\u001b[0m\u001b[1;33m)\u001b[0m\u001b[1;33m)\u001b[0m\u001b[1;33m,\u001b[0m\u001b[1;33m\u001b[0m\u001b[1;33m\u001b[0m\u001b[0m\n",
      "\u001b[1;31mValueError\u001b[0m: need at least one array to concatenate"
     ]
    }
   ],
   "source": [
    "# print(classification_report(\n",
    "#     np.concatenate(train_actual),\n",
    "#     np.concatenate(train_predictions),\n",
    "#     labels = range(len(label_names)),\n",
    "#     target_names = label_names\n",
    "# ))\n",
    "\n",
    "\n",
    "print(classification_report(\n",
    "    np.concatenate(test_actual),\n",
    "    np.concatenate(test_predictions),\n",
    "    labels = range(len(label_names)),\n",
    "    target_names = label_names\n",
    "))"
   ]
  },
  {
   "cell_type": "code",
   "execution_count": 11,
   "metadata": {},
   "outputs": [],
   "source": [
    "torch.save({\n",
    "'state_dict': squeezenet.state_dict(),\n",
    "}, \"squeeznet_full\")"
   ]
  },
  {
   "cell_type": "code",
   "execution_count": null,
   "metadata": {},
   "outputs": [],
   "source": [
    "# x = batch[0]\n",
    "# y = batch[1]\n",
    "# alexnet(x)\n",
    "torch.cuda.memory_allocated()"
   ]
  },
  {
   "cell_type": "raw",
   "metadata": {},
   "source": []
  },
  {
   "cell_type": "code",
   "execution_count": null,
   "metadata": {},
   "outputs": [],
   "source": [
    "squeezenet"
   ]
  },
  {
   "cell_type": "code",
   "execution_count": null,
   "metadata": {},
   "outputs": [],
   "source": [
    "x, y = next(batches)\n",
    "%matplotlib inline\n",
    "def show(img):\n",
    "    plt.figure(figsize=(25,25))\n",
    "    npimg = img.numpy()\n",
    "    plt.imshow(np.transpose(npimg, (1,2,0)), interpolation='nearest')\n",
    "    \n",
    "show(torchvision.utils.make_grid(x, padding=10, normalize=True))"
   ]
  },
  {
   "cell_type": "code",
   "execution_count": null,
   "metadata": {},
   "outputs": [],
   "source": [
    "batches = iter(train_batches)"
   ]
  },
  {
   "cell_type": "code",
   "execution_count": null,
   "metadata": {},
   "outputs": [],
   "source": [
    "import time\n",
    "\n",
    "%matplotlib inline\n",
    "i = 0\n",
    "for batch in train_batches:\n",
    "    x, y = batch\n",
    "    plt.figure(figsize=(25,25))\n",
    "    npimg = torchvision.utils.make_grid(x, padding=10, normalize=True).numpy()\n",
    "    plt.imsave(str(i)+\".jpg\", np.transpose(npimg, (1,2,0)))\n",
    "    i = i + 1\n"
   ]
  },
  {
   "cell_type": "code",
   "execution_count": null,
   "metadata": {},
   "outputs": [],
   "source": [
    "# Change path to root folder of the data provided\n",
    "path_to_data = '../data/combined/'\n",
    "\n",
    "# a dataset abstraction that figures out classes on it's own based on what folder the images were in\n",
    "_data = torchvision.datasets.DatasetFolder(\n",
    "    path_to_data,                                  # root path, it'll get paths to actual images on it's own\n",
    "    Image.open,                                    # pillow open image function to load data from given path\n",
    "    ['jpg', 'JPG', 'HEIC', 'jpeg', 'jfif'],                                # list of extensions for images in dataset\n",
    "    transform = torchvision.transforms.Compose([   # a pipeline of transformations to apply on the read image\n",
    "        torchvision.transforms.Resize((224, 224)),\n",
    "        torchvision.transforms.ToTensor(),\n",
    "        torchvision.transforms.Normalize(mean=[0.485, 0.456, 0.406], # the documentation said that alexnet was modelled with\n",
    "                                 std=[0.229, 0.224, 0.225]),         # images using this normalisation parameters\n",
    "    ]),\n",
    ")\n",
    "\n",
    "train_batches = torch.utils.data.DataLoader(\n",
    "    _data,                                       # dataset \n",
    "    batch_size=32,                       # size of batches to load\n",
    "    shuffle=True,\n",
    "    num_workers=8,                               # no of workers\n",
    "    pin_memory=True                              # Host to GPU copies are much faster when they originate from pinned (page-locked) memory. CPU tensors and storages expose a pin_memory() method, that returns a copy of the object, with data put in a pinned region.\n",
    ") \n",
    "\n",
    "squeezenet = torchvision.models.squeezenet1_1()\n",
    "squeezenet.num_classes = len(label_names)\n",
    "# create new instances of the same layers, to get rid of the pretrained weights in the classification layers\n",
    "# we want to learn our own\n",
    "layers = [\n",
    "#     nn.BatchNorm2d(512),\n",
    "    nn.Dropout(0.5),\n",
    "    nn.Conv2d(512, squeezenet.num_classes, kernel_size=(1, 1), stride=(1, 1)),\n",
    "#     nn.BatchNorm2d(squeezenet.num_classes),\n",
    "    nn.ReLU(inplace=True),\n",
    "#     nn.Dropout(0.5),\n",
    "    nn.AvgPool2d(kernel_size=13, stride=1, padding=0)\n",
    "]\n",
    "\n",
    "# change the classification layers to the untrained ones we just defined\n",
    "# I am not sure why this syntax works, I found it in a medium article\n",
    "squeezenet.classifier = nn.Sequential(*layers)\n",
    "\n",
    "model = torch.load('../models/squeeznet_half')\n",
    "squeezenet.load_state_dict(model['state_dict'])\n",
    "\n",
    "squeezenet.half()\n",
    "squeezenet.eval()\n",
    "squeezenet.to(device)\n",
    "\n",
    "predict = lambda x: torch.argmax(x, dim=1).cpu().numpy()\n",
    "test_predictions = []\n",
    "test_actual = []\n",
    "for batch in tqdm(train_batches):\n",
    "    x, y = batch\n",
    "    pred = squeezenet(x.half().to(device))\n",
    "    test_predictions.append(predict(pred))\n",
    "    test_actual.append(np.array(y))\n",
    "\n",
    "print(classification_report(\n",
    "    np.concatenate(test_actual),\n",
    "    np.concatenate(test_predictions),\n",
    "    labels = range(len(label_names)),\n",
    "    target_names = label_names\n",
    "))"
   ]
  },
  {
   "cell_type": "code",
   "execution_count": null,
   "metadata": {},
   "outputs": [],
   "source": [
    "squeezenet.half()\n",
    "squeezenet.eval()\n",
    "predict = lambda x: torch.argmax(x, dim=1).cpu().numpy()\n",
    "test_predictions = []\n",
    "test_actual = []\n",
    "for batch in test_batches:\n",
    "    x, y = batch\n",
    "    pred = squeezenet(x.half().to(device))\n",
    "    test_predictions.append(predict(pred))\n",
    "    test_errors.append(loss(pred, y.to(device)).data.item())    # get loss\n",
    "    test_actual.append(np.array(y))\n",
    "\n",
    "print(classification_report(\n",
    "    np.concatenate(test_actual),\n",
    "    np.concatenate(test_predictions),\n",
    "    labels = range(len(label_names)),\n",
    "    target_names = label_names\n",
    "))"
   ]
  },
  {
   "cell_type": "code",
   "execution_count": null,
   "metadata": {},
   "outputs": [],
   "source": [
    "# Change path to root folder of the data provided\n",
    "path_to_data = '../data/combined/'\n",
    "\n",
    "# a dataset abstraction that figures out classes on it's own based on what folder the images were in\n",
    "_data = torchvision.datasets.DatasetFolder(\n",
    "    path_to_data,                                  # root path, it'll get paths to actual images on it's own\n",
    "    Image.open,                                    # pillow open image function to load data from given path\n",
    "    ['jpg', 'JPG', 'HEIC', 'jpeg', 'jfif'],                                # list of extensions for images in dataset\n",
    "    transform = torchvision.transforms.Compose([   # a pipeline of transformations to apply on the read image\n",
    "        torchvision.transforms.Resize((224, 224)),\n",
    "        torchvision.transforms.ToTensor(),\n",
    "        torchvision.transforms.Normalize(mean=[0.485, 0.456, 0.406], # the documentation said that alexnet was modelled with\n",
    "                                 std=[0.229, 0.224, 0.225]),         # images using this normalisation parameters\n",
    "    ]),\n",
    ")"
   ]
  },
  {
   "cell_type": "code",
   "execution_count": null,
   "metadata": {},
   "outputs": [],
   "source": [
    "# some unfortunate ugly code to split the data randomly into training and testing\n",
    "split_at = 1\n",
    "train, test = torch.utils.data.random_split(\n",
    "    _data,\n",
    "    [int(split_at*(len(_data))), len(_data) - int(split_at*(len(_data)))]\n",
    ")\n",
    "\n",
    "batch_size = 32\n",
    "# defining loaders for the train and test datasets\n",
    "train_batches = torch.utils.data.DataLoader(\n",
    "    train,                                       # dataset \n",
    "    batch_size=batch_size,                       # size of batches to load\n",
    "    shuffle=True,\n",
    "    num_workers=8,                               # no of workers\n",
    "    pin_memory=True                              # Host to GPU copies are much faster when they originate from pinned (page-locked) memory. CPU tensors and storages expose a pin_memory() method, that returns a copy of the object, with data put in a pinned region.\n",
    ") "
   ]
  },
  {
   "cell_type": "code",
   "execution_count": null,
   "metadata": {},
   "outputs": [],
   "source": [
    "labels = []\n",
    "for batch in train_batches:\n",
    "    x, y = batch\n",
    "    labels.append(y.numpy())"
   ]
  },
  {
   "cell_type": "code",
   "execution_count": null,
   "metadata": {},
   "outputs": [],
   "source": [
    "np.unique(labels[0])"
   ]
  },
  {
   "cell_type": "code",
   "execution_count": null,
   "metadata": {},
   "outputs": [],
   "source": [
    "class_weight.compute_class_weight(\n",
    "        'balanced', np.unique(labels[0]), labels[0])\n",
    "\n",
    "class_weights = [0.66704036, 1.2192623 , 1.44417476, 1.17125984, 1.31637168,\n",
    "       1.04020979, 1.35227273, 0.59738956]"
   ]
  },
  {
   "cell_type": "code",
   "execution_count": null,
   "metadata": {},
   "outputs": [],
   "source": [
    "squeezenet.half()"
   ]
  },
  {
   "cell_type": "code",
   "execution_count": null,
   "metadata": {},
   "outputs": [],
   "source": []
  }
 ],
 "metadata": {
  "kernelspec": {
   "display_name": "Python 3",
   "language": "python",
   "name": "python3"
  },
  "language_info": {
   "codemirror_mode": {
    "name": "ipython",
    "version": 3
   },
   "file_extension": ".py",
   "mimetype": "text/x-python",
   "name": "python",
   "nbconvert_exporter": "python",
   "pygments_lexer": "ipython3",
   "version": "3.6.7"
  }
 },
 "nbformat": 4,
 "nbformat_minor": 2
}
