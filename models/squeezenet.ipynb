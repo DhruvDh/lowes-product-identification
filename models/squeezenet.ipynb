{
 "cells": [
  {
   "cell_type": "code",
   "execution_count": 2,
   "metadata": {},
   "outputs": [
    {
     "name": "stderr",
     "output_type": "stream",
     "text": [
      "Using TensorFlow backend.\n"
     ]
    },
    {
     "name": "stdout",
     "output_type": "stream",
     "text": [
      "Populating the interactive namespace from numpy and matplotlib\n"
     ]
    }
   ],
   "source": [
    "import torch\n",
    "import torch.nn as nn\n",
    "import torchvision\n",
    "\n",
    "import numpy as np\n",
    "from PIL import Image\n",
    "from tqdm import tqdm\n",
    "from livelossplot import PlotLosses\n",
    "\n",
    "from sklearn.metrics import classification_report, f1_score\n",
    "from sklearn.utils import class_weight\n",
    "\n",
    "import pprint\n",
    "\n",
    "%pylab inline\n",
    "pp = pprint.PrettyPrinter(indent=2)\n",
    "device = torch.device(\"cuda:0\" if torch.cuda.is_available() else \"cpu\")"
   ]
  },
  {
   "cell_type": "code",
   "execution_count": 3,
   "metadata": {},
   "outputs": [],
   "source": [
    "# Change path to root folder of the data provided\n",
    "path_to_data = '../data/train/'\n",
    "data_extensions = ['jpg', 'JPG', 'jpeg', 'HEIC', 'jfif']\n",
    "# a dataset abstraction that figures out classes on it's own based on what folder the images were in\n",
    "_data = torchvision.datasets.DatasetFolder(\n",
    "    path_to_data,                                  # root path, it'll get paths to actual images on it's own\n",
    "    Image.open,                                    # pillow open image function to load data from given path\n",
    "    data_extensions,                                # list of extensions for images in dataset\n",
    "    transform = torchvision.transforms.Compose([   # a pipeline of transformations to apply on the read image\n",
    "        torchvision.transforms.RandomChoice([\n",
    "            torchvision.transforms.RandomResizedCrop(224, scale=(0.7, 1.0)),\n",
    "            torchvision.transforms.Resize((224, 224))\n",
    "        ]),\n",
    "#         torchvision.transforms.RandomApply([\n",
    "            torchvision.transforms.RandomHorizontalFlip(),\n",
    "            torchvision.transforms.RandomVerticalFlip(),\n",
    "            torchvision.transforms.ColorJitter(\n",
    "                brightness=0.7,\n",
    "                contrast=0.7,\n",
    "                saturation=0.7,\n",
    "                hue=0.3),\n",
    "#             torchvision.transforms.RandomRotation(15),\n",
    "#         ]),\n",
    "        torchvision.transforms.ToTensor(),\n",
    "        torchvision.transforms.Normalize(mean=[0.485, 0.456, 0.406], # the documentation said that alexnet was modelled with\n",
    "                                 std=[0.229, 0.224, 0.225]),         # images using this normalisation parameters\n",
    "    ]),\n",
    ")\n",
    "\n",
    "test_data = torchvision.datasets.DatasetFolder(\n",
    "    '../data/validation',\n",
    "    Image.open,\n",
    "    data_extensions,\n",
    "    transform = torchvision.transforms.Compose([\n",
    "        torchvision.transforms.RandomResizedCrop(224, scale=(0.7, 1.0)),\n",
    "            torchvision.transforms.Resize((224, 224))\n",
    "    ])\n",
    ")"
   ]
  },
  {
   "cell_type": "code",
   "execution_count": 4,
   "metadata": {},
   "outputs": [
    {
     "name": "stdout",
     "output_type": "stream",
     "text": [
      "Training data: 1114 images\n",
      "Testing data: 279 images\n"
     ]
    }
   ],
   "source": [
    "# some unfortunate ugly code to split the data randomly into training and testing\n",
    "split_at = 0.8\n",
    "train, test = torch.utils.data.random_split(\n",
    "    _data,\n",
    "    [int(split_at*(len(_data))), len(_data) - int(split_at*(len(_data)))]\n",
    ")\n",
    "print(\"Training data: \" + str(len(train)) + \" images\")\n",
    "print(\"Testing data: \" + str(len(test)) + \" images\")"
   ]
  },
  {
   "cell_type": "code",
   "execution_count": 4,
   "metadata": {},
   "outputs": [],
   "source": [
    "batch_size = 96\n",
    "# defining loaders for the train and test datasets\n",
    "train_batches = torch.utils.data.DataLoader(\n",
    "    train,                                       # dataset \n",
    "    batch_size=batch_size,                       # size of batches to load\n",
    "    shuffle=True,\n",
    "    num_workers=8,                               # no of workers\n",
    "    pin_memory=True                              # Host to GPU copies are much faster when they originate from pinned (page-locked) memory. CPU tensors and storages expose a pin_memory() method, that returns a copy of the object, with data put in a pinned region.\n",
    ") \n",
    "\n",
    "test_batches = torch.utils.data.DataLoader(\n",
    "    test,                                       # dataset \n",
    "    batch_size=batch_size,                      # size of batches to load\n",
    "    shuffle=True,\n",
    "    num_workers=8,                               # no of workers\n",
    "    pin_memory=True                              # Host to GPU copies are much faster when they originate from pinned (page-locked) memory. CPU tensors and storages expose a pin_memory() method, that returns a copy of the object, with data put in a pinned region.\n",
    ") "
   ]
  },
  {
   "cell_type": "code",
   "execution_count": 5,
   "metadata": {},
   "outputs": [
    {
     "name": "stderr",
     "output_type": "stream",
     "text": [
      "c:\\python37\\lib\\site-packages\\torchvision\\models\\squeezenet.py:94: UserWarning: nn.init.kaiming_uniform is now deprecated in favor of nn.init.kaiming_uniform_.\n",
      "  init.kaiming_uniform(m.weight.data)\n",
      "c:\\python37\\lib\\site-packages\\torchvision\\models\\squeezenet.py:92: UserWarning: nn.init.normal is now deprecated in favor of nn.init.normal_.\n",
      "  init.normal(m.weight.data, mean=0.0, std=0.01)\n"
     ]
    }
   ],
   "source": [
    "# it'll download alexnet weights on it's own\n",
    "squeezenet = torchvision.models.squeezenet1_1(\n",
    "    pretrained=True,\n",
    ")"
   ]
  },
  {
   "cell_type": "code",
   "execution_count": 6,
   "metadata": {},
   "outputs": [
    {
     "name": "stdout",
     "output_type": "stream",
     "text": [
      "Classes are - \n",
      "[ 'FEIT_40W_T8_TUBE_MCRWV_BULB_120V',\n",
      "  'GE - 48 Inch - F40 - T12 - Bulb Fluorescent',\n",
      "  'GE_40W_RelaxLED',\n",
      "  'GE_60W_LED_A19_FROST_5000K_8CT',\n",
      "  'GE_Appliance_LED_11W_Soft_White',\n",
      "  'GE_Appliance_LED_40W_Warm_White',\n",
      "  'GE_Basic_LED_60W_Soft_Light',\n",
      "  'GE_Basic_LED_90W_Daylight',\n",
      "  'GE_Classic_LED_65W_Soft_White',\n",
      "  'GE_Vintage_LED_60W_Warm_Light',\n",
      "  'OSI_60W_13W_CFL_SOFT_WHITE_6_CT']\n",
      "\n",
      "11 classes in total.\n"
     ]
    }
   ],
   "source": [
    "# get list of classes from names of folders inside the path to data\n",
    "import os\n",
    "label_names = os.listdir(path_to_data)\n",
    "\n",
    "# set num of classes, so as to set the output dimensions\n",
    "squeezenet.num_classes = len(label_names)\n",
    "print(\"Classes are - \")\n",
    "pp.pprint(label_names)\n",
    "print(\"\\n\" + str(len(label_names)) + \" classes in total.\")"
   ]
  },
  {
   "cell_type": "code",
   "execution_count": 7,
   "metadata": {},
   "outputs": [
    {
     "data": {
      "text/plain": [
       "Sequential(\n",
       "  (0): Dropout(p=0.5)\n",
       "  (1): Conv2d(512, 11, kernel_size=(1, 1), stride=(1, 1))\n",
       "  (2): ReLU(inplace)\n",
       "  (3): AvgPool2d(kernel_size=13, stride=1, padding=0)\n",
       ")"
      ]
     },
     "execution_count": 7,
     "metadata": {},
     "output_type": "execute_result"
    }
   ],
   "source": [
    "# create new instances of the same layers, to get rid of the pretrained weights in the classification layers\n",
    "# we want to learn our own\n",
    "layers = [\n",
    "#     nn.BatchNorm2d(512),\n",
    "    nn.Dropout(0.5),\n",
    "    nn.Conv2d(512, squeezenet.num_classes, kernel_size=(1, 1), stride=(1, 1)),\n",
    "#     nn.BatchNorm2d(squeezenet.num_classes),\n",
    "    nn.ReLU(inplace=True),\n",
    "#     nn.Dropout(0.5),\n",
    "    nn.AvgPool2d(kernel_size=13, stride=1, padding=0)\n",
    "]\n",
    "\n",
    "# change the classification layers to the untrained ones we just defined\n",
    "# I am not sure why this syntax works, I found it in a medium article\n",
    "squeezenet.classifier = nn.Sequential(*layers)\n",
    "# but it gets the job done\n",
    "squeezenet.classifier\n"
   ]
  },
  {
   "cell_type": "code",
   "execution_count": 8,
   "metadata": {},
   "outputs": [],
   "source": [
    "def get_class_weights():\n",
    "    _data = torchvision.datasets.DatasetFolder(\n",
    "        '../data/train/',                                  # root path, it'll get paths to actual images on it's own\n",
    "        Image.open,                                    # pillow open image function to load data from given path\n",
    "        data_extensions,                                # list of extensions for images in dataset\n",
    "        transform = torchvision.transforms.Compose([   # a pipeline of transformations to apply on the read image\n",
    "            torchvision.transforms.Resize((224, 224)),\n",
    "            torchvision.transforms.ToTensor(),\n",
    "            torchvision.transforms.Normalize(mean=[0.485, 0.456, 0.406], # the documentation said that alexnet was modelled with\n",
    "                                     std=[0.229, 0.224, 0.225]),         # images using this normalisation parameters\n",
    "        ]),\n",
    "    )\n",
    "    torch.utils.data.DataLoader(\n",
    "        _data,                                       # dataset \n",
    "        batch_size=32,                       # size of batches to load\n",
    "        num_workers=8,                               # no of workers\n",
    "        pin_memory=True                              # Host to GPU copies are much faster when they originate from pinned (page-locked) memory. CPU tensors and storages expose a pin_memory() method, that returns a copy of the object, with data put in a pinned region.\n",
    "    ) \n",
    "    labels = []\n",
    "    for batch in train_batches:\n",
    "        x, y = batch\n",
    "        labels.append(y.numpy())\n",
    "        \n",
    "    print('Unique labels are: ' + str(np.unique(labels[0])))\n",
    "    return class_weight.compute_class_weight(\n",
    "        'balanced', np.unique(labels[0]), labels[0])\n",
    "\n",
    "# class_weights = get_class_weights()\n",
    "class_weights = [0.48484848, 4.36363636, 4.36363636, 1.09090909, 4.36363636,\n",
    "       0.67132867, 1.09090909, 1.09090909, 0.67132867, 1.09090909,\n",
    "       0.62337662]\n",
    "# class_weights"
   ]
  },
  {
   "cell_type": "code",
   "execution_count": 9,
   "metadata": {},
   "outputs": [],
   "source": [
    "loss = nn.CrossEntropyLoss(\n",
    "    weight = torch.tensor(class_weights).to(device)\n",
    ")                # loss function\n",
    "# it's softmax followed by Negative Log Likelihood loss\n",
    "\n",
    "# defining an optimizer\n",
    "optimizer = torch.optim.Adam(\n",
    "    squeezenet.parameters(),   \n",
    "    lr=1e-4,\n",
    "    amsgrad = True\n",
    ")\n",
    "\n",
    "squeezenet.to(device)           # load up all the weights to cuda device memory, if available\n",
    "live_losses = PlotLosses()   # a tool for drawing plots"
   ]
  },
  {
   "cell_type": "code",
   "execution_count": 10,
   "metadata": {},
   "outputs": [
    {
     "data": {
      "image/png": "[encoded data removed]",
      "text/plain": [
       "<Figure size 864x864 with 3 Axes>"
      ]
     },
     "metadata": {
      "needs_background": "light"
     },
     "output_type": "display_data"
    },
    {
     "name": "stdout",
     "output_type": "stream",
     "text": [
      "train_loss:\n",
      "training   (min:    0.055, max:    2.365, cur:    0.055)\n",
      "\n",
      "test_loss:\n",
      "training   (min:    0.199, max:    2.017, cur:    0.351)\n",
      "\n",
      "test_f1:\n",
      "training   (min:    0.142, max:    0.935, cur:    0.925)\n"
     ]
    }
   ],
   "source": [
    "# training\n",
    "for epoch in range(65):\n",
    "    squeezenet.train()  # set model to train mode. not sure what that does, probably some optimisations\n",
    "    \n",
    "    train_errors = []  \n",
    "    test_errors = []\n",
    "    for batch in (tqdm(train_batches)):\n",
    "        X, Y = batch\n",
    "        pred = squeezenet(X.to(device))\n",
    "        \n",
    "        optimizer.zero_grad()               # reset the gradients\n",
    "        error = loss(pred, Y.to(device))    # get loss\n",
    "        error.backward()                    # propogate loss backwards\n",
    "        optimizer.step()                    # update params\n",
    "        \n",
    "        train_errors.append(error.data.item())\n",
    "        \n",
    "    \n",
    "    squeezenet.eval()  # set model to evaluate mode. not sure what that does exactly\n",
    "    \n",
    "    # some code to calculate f1 score for the test set\n",
    "    predict = lambda x: torch.argmax(x, dim=1).cpu().numpy()\n",
    "    test_predictions = []\n",
    "    test_actual = []\n",
    "    for batch in test_batches:\n",
    "        x, y = batch\n",
    "        pred = squeezenet(x.to(device))\n",
    "        test_predictions.append(predict(pred))\n",
    "        test_errors.append(loss(pred, y.to(device)).data.item())    # get loss\n",
    "        test_actual.append(np.array(y))\n",
    "    \n",
    "#     train_predictions = []\n",
    "#     train_actual = []\n",
    "#     for batch in train_batches:\n",
    "#         x, y = batch\n",
    "#         pred = squeezenet(x.to(device))\n",
    "#         train_predictions.append(predict(pred))\n",
    "#         train_actual.append(np.array(y))\n",
    "\n",
    "    # log data to be plotted later\n",
    "    live_losses.update({\n",
    "        'train_loss': np.mean(np.array(train_errors)),\n",
    "        'test_loss': np.mean(np.array(test_errors)),\n",
    "#         'train_f1': f1_score(np.concatenate(train_actual), np.concatenate(train_predictions), average='weighted'),\n",
    "        'test_f1': f1_score(np.concatenate(test_actual), np.concatenate(test_predictions), average='weighted'),\n",
    "    })\n",
    "    live_losses.draw() # plot loss curves   \n",
    "\n"
   ]
  },
  {
   "cell_type": "code",
   "execution_count": 11,
   "metadata": {},
   "outputs": [
    {
     "name": "stdout",
     "output_type": "stream",
     "text": [
      "                                             precision    recall  f1-score   support\n",
      "\n",
      "           FEIT_40W_T8_TUBE_MCRWV_BULB_120V       0.98      0.89      0.93        53\n",
      "GE - 48 Inch - F40 - T12 - Bulb Fluorescent       0.92      0.92      0.92        12\n",
      "                            GE_40W_RelaxLED       1.00      0.95      0.97        19\n",
      "             GE_60W_LED_A19_FROST_5000K_8CT       0.83      1.00      0.91        20\n",
      "            GE_Appliance_LED_11W_Soft_White       1.00      1.00      1.00         2\n",
      "            GE_Appliance_LED_40W_Warm_White       0.96      0.88      0.92        25\n",
      "                GE_Basic_LED_60W_Soft_Light       0.95      0.91      0.93        23\n",
      "                  GE_Basic_LED_90W_Daylight       0.88      0.94      0.91        32\n",
      "              GE_Classic_LED_65W_Soft_White       0.90      0.86      0.88        22\n",
      "              GE_Vintage_LED_60W_Warm_Light       0.96      1.00      0.98        25\n",
      "            OSI_60W_13W_CFL_SOFT_WHITE_6_CT       0.88      0.93      0.91        46\n",
      "\n",
      "                                  micro avg       0.92      0.92      0.92       279\n",
      "                                  macro avg       0.93      0.93      0.93       279\n",
      "                               weighted avg       0.93      0.92      0.92       279\n",
      "\n"
     ]
    }
   ],
   "source": [
    "print(classification_report(\n",
    "    np.concatenate(test_actual),\n",
    "    np.concatenate(test_predictions),\n",
    "    labels = range(len(label_names)),\n",
    "    target_names = label_names\n",
    "))"
   ]
  },
  {
   "cell_type": "code",
   "execution_count": null,
   "metadata": {},
   "outputs": [],
   "source": []
  }
 ],
 "metadata": {
  "kernelspec": {
   "display_name": "Python 3",
   "language": "python",
   "name": "python3"
  },
  "language_info": {
   "codemirror_mode": {
    "name": "ipython",
    "version": 3
   },
   "file_extension": ".py",
   "mimetype": "text/x-python",
   "name": "python",
   "nbconvert_exporter": "python",
   "pygments_lexer": "ipython3",
   "version": "3.6.7"
  }
 },
 "nbformat": 4,
 "nbformat_minor": 2
}
